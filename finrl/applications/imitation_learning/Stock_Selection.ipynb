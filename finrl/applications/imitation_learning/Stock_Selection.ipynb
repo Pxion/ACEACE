{
 "cells": [
  {
   "metadata": {},
   "cell_type": "code",
   "outputs": [],
   "execution_count": null,
   "source": "# Installation Setup",
   "id": "76c70e91b5aec25e"
  },
  {
   "metadata": {},
   "cell_type": "code",
   "outputs": [],
   "execution_count": null,
   "source": [
    "%load_ext autoreload\n",
    "%autoreload 2"
   ],
   "id": "d583b935e6154b78"
  },
  {
   "metadata": {},
   "cell_type": "code",
   "outputs": [],
   "execution_count": null,
   "source": [
    "import numpy as np\n",
    "import pandas as pd\n",
    "import dask.dataframe as dd\n",
    "from scipy import stats\n",
    "import statsmodels.api as sm\n",
    "from statsmodels.regression.rolling import RollingOLS\n",
    "import matplotlib.pyplot as plt\n",
    "from matplotlib import ticker\n",
    "import seaborn as sns; sns.set()\n",
    "from pandas.tseries.offsets import *\n",
    "from dateutil.relativedelta import *\n",
    "import datetime as dt\n",
    "import os\n",
    "from linearmodels.asset_pricing import TradedFactorModel, LinearFactorModel\n",
    "from IPython.core.pylabtools import figsize\n",
    "from IPython.core.interactiveshell import InteractiveShell\n",
    "from fredapi import Fred\n",
    "fred = Fred(api_key = 'b0363f9c9d853b92b27e06c4727bc2ea')\n",
    "import pandas_datareader.data as web\n",
    "\n",
    "%matplotlib inline \n",
    "%pylab inline\n",
    "pylab.rcParams['figure.figsize'] = (20,10)"
   ],
   "id": "998203c9236e5cd5"
  },
  {
   "metadata": {},
   "cell_type": "code",
   "outputs": [],
   "execution_count": null,
   "source": [
    "import pickle\n",
    "from multiprocessing import Pool \n",
    "import random\n",
    "import json\n",
    "import sys\n",
    "import StockPortfolioEnv\n",
    "\n",
    "import pytz\n",
    "import itertools\n",
    "from datetime import datetime as dt\n",
    "from finrl.meta.preprocessor.yahoodownloader import YahooDownloader\n",
    "from finrl.meta.preprocessor.preprocessors import FeatureEngineer, data_split\n",
    "from finrl import config\n",
    "from finrl import config_tickers\n",
    "from finrl.config import (\n",
    "    DATA_SAVE_DIR,\n",
    "    TRAINED_MODEL_DIR,\n",
    "    TENSORBOARD_LOG_DIR,\n",
    "    RESULTS_DIR,\n",
    "    INDICATORS,\n",
    "    TRAIN_START_DATE,\n",
    "    TRAIN_END_DATE,\n",
    "    TEST_START_DATE,\n",
    "    TEST_END_DATE,\n",
    "    TRADE_START_DATE,\n",
    "    TRADE_END_DATE,\n",
    ")\n",
    "\n",
    "if not os.path.exists(\"./\" + config.RESULTS_DIR):\n",
    "    os.makedirs(\"./\" + config.RESULTS_DIR)"
   ],
   "id": "2077cee3be40ed71"
  },
  {
   "metadata": {},
   "cell_type": "code",
   "outputs": [],
   "execution_count": null,
   "source": [
    "InteractiveShell.ast_node_interactivity = \"all\"\n",
    "pd.options.display.float_format = '{:,.3f}'.format\n",
    "pd.set_option('mode.use_inf_as_na', True)\n",
    "pd.set_option('display.max_columns', 300)\n",
    "pd.set_option('display.max_rows', 500)\n",
    "idx = pd.IndexSlice\n",
    "import warnings\n",
    "warnings.filterwarnings('ignore')"
   ],
   "id": "171eb7aa6df5d89f"
  },
  {
   "metadata": {},
   "cell_type": "markdown",
   "source": "# Data",
   "id": "3bdc2ce1fb9e0525"
  },
  {
   "metadata": {},
   "cell_type": "code",
   "outputs": [],
   "execution_count": null,
   "source": [
    "Datasets = os.path.dirname(os.getcwd()) + \"\\\\data\\\\\"\n",
    "__depends__ = [Datasets+\"RetailMarketOrder.sas7bdat\", \n",
    "               Datasets+\"InstitutionOrder.sas7bdat\", \n",
    "               Datasets+\"FutureReturn.sas7bdat\"]\n",
    "__dest__ = []"
   ],
   "id": "44b8c349160f06ec"
  },
  {
   "metadata": {},
   "cell_type": "code",
   "outputs": [],
   "execution_count": null,
   "source": "__depends__",
   "id": "eb2281ad1c1beb6b"
  },
  {
   "metadata": {},
   "cell_type": "markdown",
   "source": "## Column Details",
   "id": "d96e69b7265cf923"
  },
  {
   "metadata": {},
   "cell_type": "markdown",
   "source": [
    "- permno is the permanent stock identifier used in CRSP\n",
    "- Retail Market Order Imbalance (moribvol) = (Shares Purchased - Shares Sold)/(Shares Purchased+Shares Sold)\n",
    "    - We standardize by dividing the sum of total buy and sell retail market orders to make this variable comparable across different stocks\n",
    "    - Tracking Retail Investor Activity: https://onlinelibrary.wiley.com/doi/abs/10.1111/jofi.13033\n",
    "- 5 Russell groups\n",
    "    - Classification of stocks according to the constituent members of Russell indices\n",
    "    - Large-Cap (russellgroup = 1): stocks in Russell Top 200, which consists of the largest 200 members in Russell 1000\n",
    "    - Mid-Cap (russellgroup = 2): stocks in Russell Mid-Cap, which consists of the smallest 800 members in Russell 1000\n",
    "    - Small-Cap (russellgroup = 3): the largest 1000 members in Russell 2000\n",
    "    - Micro-Cap (russellgroup = 4): stocks in Russell Micro-Cap, which consists of the smallest 1000 members in Russell 2000 plus the largest 1000 stocks outside Russell 2000\n",
    "    - Nano-Cap (russellgroup = 5): all remaining stocks\n",
    "- 11 sectors\n",
    "    - The Global Industry Classification Standard (GICS)\n",
    "    - I name a sector using the corresponding ticker of the SPDR sector ETF (see, https://www.sectorspdr.com/sectorspdr/)"
   ],
   "id": "48669d43da52995"
  },
  {
   "metadata": {},
   "cell_type": "code",
   "outputs": [],
   "execution_count": null,
   "source": [
    "retail = pd.read_sas(__depends__[0], encoding = 'latin-1')\n",
    "retail.columns = retail.columns.str.lower()\n",
    "retail[['permno','russellgroup']] = retail[['permno','russellgroup']].astype(int)\n",
    "retail.tail()"
   ],
   "id": "51d7e6cdc2582ccb"
  },
  {
   "metadata": {},
   "cell_type": "code",
   "outputs": [],
   "execution_count": null,
   "source": "retail.groupby(['date','sector'])['permno'].count().unstack().plot();",
   "id": "3a0c6c0d7969d0a2"
  },
  {
   "metadata": {},
   "cell_type": "code",
   "outputs": [],
   "execution_count": null,
   "source": [
    "institution = pd.read_sas(__depends__[1], encoding = 'latin-1')\n",
    "institution.columns = institution.columns.str.lower()\n",
    "institution[['permno','russellgroup']] = institution[['permno','russellgroup']].astype(int)\n",
    "institution.tail()"
   ],
   "id": "63d1a0ab5a8266b1"
  },
  {
   "metadata": {},
   "cell_type": "code",
   "outputs": [],
   "execution_count": null,
   "source": "institution.groupby(['date','sector'])['permno'].count().unstack().plot();",
   "id": "6a30f0c79a602e00"
  },
  {
   "metadata": {},
   "cell_type": "code",
   "outputs": [],
   "execution_count": null,
   "source": [
    "ret = pd.read_sas(__depends__[2], encoding = 'latin-1')\n",
    "ret.columns = ret.columns.str.lower()\n",
    "ret['permno'] = ret['permno'].astype(int)\n",
    "ret.tail()"
   ],
   "id": "884f84449b3920f5"
  },
  {
   "metadata": {},
   "cell_type": "markdown",
   "source": [
    "- ret_i, i = 1,5,10,20, is the return over next day, 5 days, 10 days, 20 days\n",
    "    - I already moved the return backward for one trading day to avoid potentisl forward-looking bias. For example, -0.003 ret_1 of stock 93436 at 2022-06-24 is the return earned by this stock at 2022-06-27"
   ],
   "id": "d1372d872aa08d0b"
  },
  {
   "metadata": {},
   "cell_type": "markdown",
   "source": [
    "# More Data Explorations\n",
    "> In hindsight, we present stock correlation anaysis between imbalance trades and return rates in 5 days, as an example "
   ],
   "id": "d7cc1b5bfea6544b"
  },
  {
   "metadata": {},
   "cell_type": "code",
   "outputs": [],
   "execution_count": null,
   "source": [
    "# All data points - merged retail imblance trades and returns rates\n",
    "retail_ret = pd.merge(retail[['ticker','permno','date','moribvol', \"russellgroup\", \"sector\", \"price\"]], ret, on = ['permno','date'], how = 'inner')\n",
    "retail_ret = retail_ret.rename(columns={'ticker': 'tic'})\n",
    "retail_ret"
   ],
   "id": "92cde50589619449"
  },
  {
   "metadata": {},
   "cell_type": "code",
   "outputs": [],
   "execution_count": null,
   "source": [
    "# Correlation anaysis between imbalance trades and return rates in 5 days\n",
    "fut_ret = 'ret_5'\n",
    "\n",
    "# tic, russellgroup, and sector may be changed with respect to a company over time...\n",
    "grouped = retail_ret.groupby(['permno', 'tic', \"russellgroup\", \"sector\"])\n",
    "\n",
    "df_correlation = grouped.apply(lambda x: x['moribvol'].corr(x[fut_ret])).dropna()\n",
    "df_correlation = df_correlation[df_correlation > 0].reset_index()\n",
    "df_correlation = df_correlation.rename(columns={df_correlation.columns[-1]: 'corr'})"
   ],
   "id": "b3e219f07e98b5f4"
  },
  {
   "metadata": {},
   "cell_type": "code",
   "outputs": [],
   "execution_count": null,
   "source": "df_correlation.groupby(['russellgroup','sector'])['permno'].count().unstack().plot.bar();",
   "id": "d239f4aed2cd0c9e"
  },
  {
   "metadata": {},
   "cell_type": "code",
   "outputs": [],
   "execution_count": null,
   "source": [
    "# A panel of plots of correlation values\n",
    "g = sns.FacetGrid(df_correlation, col='russellgroup', row='sector')\n",
    "g.map(sns.histplot, 'corr', kde=False)\n",
    "g.fig.tight_layout()\n",
    "g.fig.show()"
   ],
   "id": "d539c0cc12366ec3"
  },
  {
   "metadata": {},
   "cell_type": "code",
   "outputs": [],
   "execution_count": null,
   "source": [
    "# Plot the distribution of correlation values for each sectors\n",
    "grouped = df_correlation.groupby(['sector'])\n",
    "grouped['corr'].plot.hist(alpha=0.5, bins=20)\n",
    "\n",
    "plt.legend()\n",
    "plt.show()"
   ],
   "id": "b75990a57814aa05"
  },
  {
   "metadata": {},
   "cell_type": "code",
   "outputs": [],
   "execution_count": null,
   "source": [
    "# Max correlated stocks in different cap sizes and sectors\n",
    "\n",
    "def get_max_row(group):\n",
    "    return group[group['corr'] == group['corr'].max()].iloc[0, :]\n",
    "\n",
    "df_correlation.groupby(['russellgroup','sector']).apply(get_max_row)"
   ],
   "id": "f0a1e7fa759f1130"
  },
  {
   "metadata": {},
   "cell_type": "markdown",
   "source": [
    "# Stock Selection\n",
    "\n",
    "> Pick 11 Large Cap Tech (XLK) firms whose retail investor trades are significantly correlatede with return rates in 5 days.\n",
    "> Stocks are [\"QCOM\", \"ADSK\", \"FSLR\", \"MSFT\", \"AMD\", \"ORCL\", \"INTU\", \"WU\", \"LRCX\", \"TXN\", \"CSCO\"]"
   ],
   "id": "ea21945ed9b92a80"
  },
  {
   "metadata": {},
   "cell_type": "code",
   "outputs": [],
   "execution_count": null,
   "source": [
    "# stock_grp = ['Large-Cap','Mid-Cap','Small-Cap','Micro-Cap','Nano-Cap']\n",
    "# tech_largeCap = retail[(retail[\"sector\"] == 'XLK')]\n",
    "\n",
    "tech_largeCap = retail[(retail[\"sector\"] == 'XLK')& (retail[\"russellgroup\"] == 1)]\n",
    "tech_largeCap_ret = pd.merge(tech_largeCap[['ticker','permno','date','moribvol', \"price\", \"russellgroup\"]], \n",
    "                             ret, \n",
    "                             on = ['permno','date'], \n",
    "                             how = 'inner')\n",
    "\n",
    "tech_largeCap_ret"
   ],
   "id": "f73ad433c1ff154"
  },
  {
   "metadata": {},
   "cell_type": "code",
   "outputs": [],
   "execution_count": null,
   "source": "tech_largeCap_ret['ticker'].unique()",
   "id": "8313b0c8dd7f5ea2"
  },
  {
   "metadata": {},
   "cell_type": "code",
   "outputs": [],
   "execution_count": null,
   "source": [
    "fut_ret = 'ret_5'\n",
    "grouped = tech_largeCap_ret.groupby('permno')\n",
    "\n",
    "tech_largeCap_correlation = grouped.apply(lambda x: x['moribvol'].corr(x[fut_ret])).dropna()\n",
    "tech_largeCap_correlation = tech_largeCap_correlation.sort_values(ascending=False).reset_index()\n",
    "tech_largeCap_correlation = tech_largeCap_correlation.rename(columns={tech_largeCap_correlation.columns[-1]: 'corr'})\n",
    "\n",
    "tech_largeCap_correlation = tech_largeCap_correlation.merge(tech_largeCap_ret[['ticker', 'permno', \"russellgroup\"]], on='permno')\n",
    "tech_largeCap_correlation = tech_largeCap_correlation.drop_duplicates()\n",
    "tech_largeCap_correlation"
   ],
   "id": "f0274d0f7a121383"
  },
  {
   "metadata": {},
   "cell_type": "code",
   "outputs": [],
   "execution_count": null,
   "source": [
    "selected_tech_tic = [\"QCOM\", \"ADSK\", \"FSLR\", \"MSFT\", \"AMD\", \"ORCL\", \"INTU\", \"WU\", \"LRCX\", \"TXN\", \"CSCO\"]\n",
    "selected_tech_ret = retail_ret[retail_ret['tic'].isin(selected_tech_tic)]\n",
    "\n",
    "# Earliest date of public trades\n",
    "min(selected_tech_ret['date'])\n",
    "\n",
    "# latest date of public trades\n",
    "max(selected_tech_ret['date'])\n",
    "\n",
    "# Check if their lengths are consistent\n",
    "assert selected_tech_ret.groupby([\"permno\", \"tic\"]).size().nunique() == 1\n",
    "\n",
    "# Sort by date \n",
    "selected_tech_ret = selected_tech_ret.sort_values(['date','tic'])"
   ],
   "id": "baf01174cfd75284"
  },
  {
   "metadata": {},
   "cell_type": "markdown",
   "source": "## Data Merge with Technical Indicators",
   "id": "b19db394e6bf1b85"
  },
  {
   "metadata": {},
   "cell_type": "code",
   "outputs": [],
   "execution_count": null,
   "source": [
    "from datetime import datetime as dt\n",
    "\n",
    "tz = pytz.timezone(\"America/New_York\")\n",
    "start = tz.localize(dt(2007,1,3))\n",
    "end = tz.localize(dt.today())\n",
    "\n",
    "fe = FeatureEngineer(use_technical_indicator=True,\n",
    "                     tech_indicator_list = INDICATORS,\n",
    "                     use_turbulence=True,\n",
    "                     user_defined_feature = False)\n",
    "\n",
    "# yf_tech = YahooDownloader(start_date = start,\n",
    "#                           end_date = end,\n",
    "#                           ticker_list = selected_tech_tic).fetch_data()\n",
    "\n",
    "# # Stack\n",
    "# processed = fe.preprocess_data(yf_tech)\n",
    "\n",
    "processed = pd.DataFrame()\n",
    "for symbol in selected_tech_tic:\n",
    "    yf_symbol = YahooDownloader(start_date = start, end_date = end, ticker_list = [symbol]).fetch_data()\n",
    "    processed_symbol = fe.preprocess_data(yf_symbol)\n",
    "    processed = pd.concat([processed, processed_symbol], axis=0)\n",
    "\n",
    "processed = processed.copy()\n",
    "processed = processed.fillna(0)\n",
    "processed = processed.replace(np.inf,0)\n",
    "processed['date'] = pd.to_datetime(processed['date'])\n",
    "\n",
    "processed"
   ],
   "id": "9e7e993584292a1a"
  },
  {
   "metadata": {},
   "cell_type": "code",
   "outputs": [],
   "execution_count": null,
   "source": "processed['tic'].unique()",
   "id": "d9f143f1a96688fc"
  },
  {
   "metadata": {},
   "cell_type": "code",
   "outputs": [],
   "execution_count": null,
   "source": [
    "# Merge technical indicators with returns\n",
    "df_merged = pd.merge(retail_ret, processed, on=['tic', 'date'])\n",
    "df_merged.to_csv('data/merged.csv', index=False)  # set index=False to exclude row index from CSV file"
   ],
   "id": "c4671bc98ba30796"
  }
 ],
 "metadata": {},
 "nbformat": 5,
 "nbformat_minor": 9
}
