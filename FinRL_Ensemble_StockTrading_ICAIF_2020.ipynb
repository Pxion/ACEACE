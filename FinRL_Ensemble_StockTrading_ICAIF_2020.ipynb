{
 "cells": [
  {
   "metadata": {},
   "cell_type": "markdown",
   "source": [
    "# 从零开始的股票交易深度强化学习：使用集成策略进行多股票交易\n",
    "\n",
    "本教程展示了如何使用 OpenAI DRL 在一个 Jupyter Notebook 中通过集成策略交易多只股票 | 展示于 ICAIF 2020\n",
    "\n",
    "* 该笔记本是我们论文的重新实现：《用于自动化股票交易的深度强化学习：一种集成策略》，使用 FinRL 实现。\n",
    "* 查看 Medium 博客以获取详细解释：[https://medium.com/@ai4finance/deep-reinforcement-learning-for-automated-stock-trading-f1dad0126a02](https://medium.com/@ai4finance/deep-reinforcement-learning-for-automated-stock-trading-f1dad0126a02)\n",
    "* 请将任何问题报告到我们的 Github：[https://github.com/AI4Finance-LLC/FinRL-Library/issues](https://github.com/AI4Finance-LLC/FinRL-Library/issues)\n",
    "* **Pytorch 版本**\n",
    "\n",
    "\n",
    "\n"
   ],
   "id": "4772422b4dc03287"
  },
  {
   "metadata": {},
   "cell_type": "markdown",
   "source": "# Content",
   "id": "7fde700f1ca81460"
  },
  {
   "metadata": {},
   "cell_type": "markdown",
   "source": [
    "* [1. 问题定义](#0)\n",
    "* [2. 入门 - 加载 Python 包](#1)\n",
    "* [2.1. 安装包](#1.1)\n",
    "* [2.2. 检查附加包](#1.2)\n",
    "* [2.3. 导入包](#1.3)\n",
    "* [2.4. 创建文件夹](#1.4)\n",
    "* [3. 下载数据](#2)\n",
    "* [4. 数据预处理](#3)\n",
    "* [4.1. 技术指标](#3.1)\n",
    "* [4.2. 执行特征工程](#3.2)\n",
    "* [5. 构建环境](#4)\n",
    "* [5.1. 训练与交易数据拆分](#4.1)\n",
    "* [5.2. 用户自定义环境](#4.2)\n",
    "* [5.3. 初始化环境](#4.3)\n",
    "* [6. 实现 DRL 算法](#5)\n",
    "* [7. 回测性能](#6)\n",
    "* [7.1. 回测统计](#6.1)\n",
    "* [7.2. 回测绘图](#6.2)\n",
    "* [7.3. 基准统计](#6.3)\n",
    "* [7.4. 与股票市场指数比较](#6.4)"
   ],
   "id": "70e404431127c1be"
  },
  {
   "metadata": {},
   "cell_type": "markdown",
   "source": [
    "<a id='0'></a>\n",
    "# Part 1. 问题定义"
   ],
   "id": "cf778fcb6c02811d"
  },
  {
   "metadata": {},
   "cell_type": "markdown",
   "source": [
    "此问题旨在为单只股票交易设计一种自动化交易解决方案。我们将股票交易过程建模为马尔可夫决策过程（MDP）。然后，我们将交易目标表述为一个最大化问题。\n",
    "\n",
    "该算法使用深度强化学习（DRL）算法进行训练，强化学习环境的组成部分包括：\n",
    "\n",
    "\n",
    "\n",
    "* 动作：动作空间描述了智能体与环境交互时允许执行的动作。通常，动作 a ∈ A 包含三个动作：a ∈ {−1, 0, 1}，其中 -1、0、1 分别代表卖出、持有和买入一股。此外，一个动作可以作用于多股股票。我们使用动作空间 {−k， ...， −1， 0， 1， ...， k}，其中 k 表示股票的数量。例如，“买入 10 股苹果公司股票”或“卖出 10 股苹果公司股票”分别为 10 或 -10。\n",
    "\n",
    "* 奖励函数：r(s, a, s') 是激励智能体学习更好行动的机制。当智能体处于状态 s 时采取行动 a 并到达新状态 s' 时投资组合价值的变化，即 r(s, a, s') = v' - v，其中 v' 和 v 分别表示状态 s' 和 s 下的投资组合价值。\n",
    "\n",
    "* 状态：状态空间描述了智能体从环境中接收到的观测值。正如人类交易员在执行交易前需要分析各种信息一样，我们的交易智能体也会观察许多不同的特征，以便在交互式环境中更好地学习。\n",
    "\n",
    "* 环境：道琼斯 30 种工业股票平均价格指数成分股\n",
    "\n",
    "\n",
    "\n",
    "我们将用于本案例研究的单只股票数据是从雅虎财经 API 获得的。该数据包含开盘价、最高价、最低价、收盘价和成交量。\n"
   ],
   "id": "4f780c338d027ad9"
  },
  {
   "metadata": {},
   "cell_type": "markdown",
   "source": [
    "<a id='1'></a>\n",
    "# Part 2. Getting Started- Load Python Packages"
   ],
   "id": "2806dbacecc60d0f"
  },
  {
   "metadata": {},
   "cell_type": "markdown",
   "source": [
    "<a id='1.1'></a>\n",
    "## 2.1. Install all the packages through FinRL library\n"
   ],
   "id": "1405013d508b55e0"
  },
  {
   "metadata": {},
   "cell_type": "code",
   "outputs": [],
   "execution_count": null,
   "source": [
    "# ## install finrl library\n",
    "!pip install wrds\n",
    "!pip install swig\n",
    "!pip install -q condacolab\n",
    "import condacolab\n",
    "condacolab.install()\n",
    "!apt-get update -y -qq && apt-get install -y -qq cmake libopenmpi-dev python3-dev zlib1g-dev libgl1-mesa-glx swig\n",
    "!pip install git+https://github.com/AI4Finance-Foundation/FinRL.git\n"
   ],
   "id": "585c665ecb644c15"
  },
  {
   "metadata": {},
   "cell_type": "markdown",
   "source": [
    "\n",
    "<a id='1.2'></a>\n",
    "## 2.2. Check if the additional packages needed are present, if not install them.\n",
    "* Yahoo Finance API\n",
    "* pandas\n",
    "* numpy\n",
    "* matplotlib\n",
    "* stockstats\n",
    "* OpenAI gym\n",
    "* stable-baselines\n",
    "* tensorflow\n",
    "* pyfolio"
   ],
   "id": "55a8e37b1223e2b3"
  },
  {
   "metadata": {},
   "cell_type": "markdown",
   "source": [
    "<a id='1.3'></a>\n",
    "## 2.3. Import Packages"
   ],
   "id": "f44c1575a065e78f"
  },
  {
   "metadata": {},
   "cell_type": "code",
   "outputs": [],
   "execution_count": null,
   "source": [
    "import warnings\n",
    "warnings.filterwarnings(\"ignore\")"
   ],
   "id": "f48cf1a5392a2523"
  },
  {
   "metadata": {},
   "cell_type": "code",
   "outputs": [],
   "execution_count": null,
   "source": [
    "import pandas as pd\n",
    "import numpy as np\n",
    "import matplotlib\n",
    "import matplotlib.pyplot as plt\n",
    "# matplotlib.use('Agg')\n",
    "import datetime\n",
    "\n",
    "%matplotlib inline\n",
    "from finrl.config_tickers import DOW_30_TICKER\n",
    "from finrl.meta.preprocessor.yahoodownloader import YahooDownloader\n",
    "from finrl.meta.preprocessor.preprocessors import FeatureEngineer, data_split\n",
    "from finrl.meta.env_stock_trading.env_stocktrading import StockTradingEnv\n",
    "from finrl.agents.stablebaselines3.models import DRLAgent,DRLEnsembleAgent\n",
    "from finrl.plot import backtest_stats, backtest_plot, get_daily_return, get_baseline\n",
    "\n",
    "from pprint import pprint\n",
    "\n",
    "import sys\n",
    "sys.path.append(\"../FinRL-Library\")\n",
    "\n",
    "import itertools"
   ],
   "id": "2c8975b4a27561a2"
  },
  {
   "metadata": {},
   "cell_type": "markdown",
   "source": [
    "<a id='1.4'></a>\n",
    "## 2.4. Create Folders"
   ],
   "id": "62b002f2130e7b30"
  },
  {
   "metadata": {},
   "cell_type": "code",
   "outputs": [],
   "execution_count": null,
   "source": [
    "import os\n",
    "from finrl.main import check_and_make_directories\n",
    "from finrl.config import (\n",
    "    DATA_SAVE_DIR,\n",
    "    TRAINED_MODEL_DIR,\n",
    "    TENSORBOARD_LOG_DIR,\n",
    "    RESULTS_DIR,\n",
    "    INDICATORS,\n",
    "    TRAIN_START_DATE,\n",
    "    TRAIN_END_DATE,\n",
    "    TEST_START_DATE,\n",
    "    TEST_END_DATE,\n",
    "    TRADE_START_DATE,\n",
    "    TRADE_END_DATE,\n",
    ")\n",
    "\n",
    "check_and_make_directories([DATA_SAVE_DIR, TRAINED_MODEL_DIR, TENSORBOARD_LOG_DIR, RESULTS_DIR])"
   ],
   "id": "df2e4823627a9204"
  },
  {
   "metadata": {},
   "cell_type": "markdown",
   "source": [
    "<a id='2'></a>\n",
    "# Part 3. Download Data\n",
    "Yahoo Finance is a website that provides stock data, financial news, financial reports, etc. All the data provided by Yahoo Finance is free.\n",
    "* FinRL uses a class **YahooDownloader** to fetch data from Yahoo Finance API\n",
    "* Call Limit: Using the Public API (without authentication), you are limited to 2,000 requests per hour per IP (or up to a total of 48,000 requests a day).\n"
   ],
   "id": "a05811a79d889f00"
  },
  {
   "metadata": {},
   "cell_type": "markdown",
   "source": [
    "\n",
    "\n",
    "-----\n",
    "class YahooDownloader:\n",
    "    Provides methods for retrieving daily stock data from\n",
    "    Yahoo Finance API\n",
    "\n",
    "    Attributes\n",
    "    ----------\n",
    "        start_date : str\n",
    "            start date of the data (modified from config.py)\n",
    "        end_date : str\n",
    "            end date of the data (modified from config.py)\n",
    "        ticker_list : list\n",
    "            a list of stock tickers (modified from config.py)\n",
    "\n",
    "    Methods\n",
    "    -------\n",
    "    fetch_data()\n",
    "        Fetches data from yahoo API\n"
   ],
   "id": "ba7f732309b5207e"
  },
  {
   "metadata": {},
   "cell_type": "code",
   "outputs": [],
   "execution_count": null,
   "source": "print(DOW_30_TICKER)",
   "id": "ea284b825f3fc903"
  },
  {
   "metadata": {},
   "cell_type": "code",
   "outputs": [],
   "execution_count": null,
   "source": [
    "# TRAIN_START_DATE = '2009-04-01'\n",
    "# TRAIN_END_DATE = '2021-01-01'\n",
    "# TEST_START_DATE = '2021-01-01'\n",
    "# TEST_END_DATE = '2022-06-01'\n",
    "from finrl.meta.preprocessor.yahoodownloader import YahooDownloader\n",
    "from finrl.config_tickers import DOW_30_TICKER\n",
    "\n",
    "TRAIN_START_DATE = '2010-01-01'\n",
    "TRAIN_END_DATE = '2021-10-01'\n",
    "TEST_START_DATE = '2021-10-01'\n",
    "TEST_END_DATE = '2023-03-01'\n",
    "\n",
    "df = YahooDownloader(start_date = TRAIN_START_DATE,\n",
    "                     end_date = TEST_END_DATE,\n",
    "                     ticker_list = DOW_30_TICKER).fetch_data()"
   ],
   "id": "69be0a8f1290d62"
  },
  {
   "metadata": {},
   "cell_type": "markdown",
   "source": [
    "# 第四部分：数据预处理\n",
    "数据预处理是训练高质量机器学习模型的关键步骤。我们需要检查缺失数据并进行特征工程，以便将数据转换为模型就绪的状态。\n",
    "\n",
    "* ​**添加技术指标**​\n",
    "  在实际交易中，需要考虑各种信息，例如历史股票价格、当前持仓份额、技术指标等。在本文中，我们演示了两个趋势跟踪技术指标：MACD 和 RSI。\n",
    "\n",
    "* ​**添加波动指数**​\n",
    "  风险厌恶反映了投资者是否会选择保本。它还影响一个人在面对不同市场波动水平时的交易策略。为了在最坏情况下（例如 2007-2008 年的金融危机）控制风险，FinRL 采用了衡量极端资产价格波动的金融波动指数。"
   ],
   "id": "692a9e4311ac1588"
  },
  {
   "metadata": {},
   "cell_type": "code",
   "outputs": [],
   "execution_count": null,
   "source": [
    " INDICATORS = ['macd',\n",
    "               'rsi_30',\n",
    "               'cci_30',\n",
    "               'dx_30']"
   ],
   "id": "c9cca1aaf2ccdf95"
  },
  {
   "metadata": {},
   "cell_type": "code",
   "outputs": [],
   "execution_count": null,
   "source": [
    "from finrl.meta.preprocessor.preprocessors import FeatureEngineer\n",
    "fe = FeatureEngineer(use_technical_indicator=True,\n",
    "                     tech_indicator_list = INDICATORS,\n",
    "                     use_turbulence=True,\n",
    "                     user_defined_feature = False)\n",
    "\n",
    "processed = fe.preprocess_data(df)\n",
    "processed = processed.copy()\n",
    "processed = processed.fillna(0)\n",
    "processed = processed.replace(np.inf,0)"
   ],
   "id": "b6dac71b72fddda"
  },
  {
   "metadata": {},
   "cell_type": "code",
   "outputs": [],
   "execution_count": null,
   "source": "len(state), len(data)",
   "id": "6a0e9f8a3463d610"
  },
  {
   "metadata": {},
   "cell_type": "markdown",
   "source": [
    "<a id='4'></a>\n",
    "# 第五部分：设计环境\n",
    "考虑到自动化股票交易任务的随机性和交互性，金融任务被建模为一个**马尔可夫决策过程（MDP）​**问题。训练过程包括观察股票价格变化、采取行动和计算奖励，以使代理能够相应地调整其策略。通过与环境的交互，交易代理将随着时间的推移推导出最大化奖励的交易策略。\n",
    "\n",
    "我们的交易环境基于 OpenAI Gym 框架，根据时间驱动模拟的原则，使用真实市场数据模拟实时股票市场。\n",
    "\n",
    "**动作空间**描述了代理与环境交互时允许的动作。通常，动作 a 包括三个动作：{-1, 0, 1}，其中 -1、0、1 分别表示卖出、持有和买入一股。此外，动作可以针对多股执行。我们使用动作空间 {-k,…,-1, 0, 1, …, k}，其中 k 表示买入的股票数量，-k 表示卖出的股票数量。例如，“买入 10 股 AAPL”或“卖出 10 股 AAPL”分别表示为 10 或 -10。由于策略是基于高斯分布定义的，连续动作空间需要归一化到 [-1, 1]，以确保其归一化和对称性。"
   ],
   "id": "ecdd2604d16189fc"
  },
  {
   "metadata": {},
   "cell_type": "code",
   "outputs": [],
   "execution_count": null,
   "source": [
    "stock_dimension = len(processed.tic.unique())\n",
    "state_space = 1 + 2*stock_dimension + len(INDICATORS)*stock_dimension\n",
    "print(f\"Stock Dimension: {stock_dimension}, State Space: {state_space}\")\n"
   ],
   "id": "7de654e035f7872f"
  },
  {
   "metadata": {},
   "cell_type": "code",
   "outputs": [],
   "execution_count": null,
   "source": [
    "env_kwargs = {\n",
    "    \"hmax\": 100,\n",
    "    \"initial_amount\": 1000000,\n",
    "    \"buy_cost_pct\": 0.001,\n",
    "    \"sell_cost_pct\": 0.001,\n",
    "    \"state_space\": state_space,\n",
    "    \"stock_dim\": stock_dimension,\n",
    "    \"tech_indicator_list\": INDICATORS,\n",
    "    \"action_space\": stock_dimension,\n",
    "    \"reward_scaling\": 1e-4,\n",
    "    \"print_verbosity\":5\n",
    "\n",
    "}\n",
    "\n",
    "# buy_cost_list = sell_cost_list = [0.001] * stock_dimension\n",
    "# num_stock_shares = [0] * stock_dimension\n",
    "# env_kwargs = {\n",
    "#     \"hmax\": 100,\n",
    "#     \"initial_amount\": 1000000,\n",
    "#     \"num_stock_shares\": num_stock_shares,\n",
    "#     \"buy_cost_pct\": buy_cost_list,\n",
    "#     \"sell_cost_pct\": sell_cost_list,\n",
    "#     \"state_space\": state_space,\n",
    "#     \"stock_dim\": stock_dimension,\n",
    "#     \"tech_indicator_list\": INDICATORS,\n",
    "#     \"action_space\": stock_dimension,\n",
    "#     \"reward_scaling\": 1e-4\n",
    "# }"
   ],
   "id": "1cbaf8aa536b5cb1"
  },
  {
   "metadata": {},
   "cell_type": "markdown",
   "source": [
    "<a id='5'></a>\n",
    "# 第六部分：实现深度强化学习（DRL）算法\n",
    "* DRL 算法的实现基于 ​**OpenAI Baselines**​ 和 ​**Stable Baselines**。Stable Baselines 是 OpenAI Baselines 的一个分支，进行了重大的结构重构和代码清理。\n",
    "* FinRL 库包含经过微调的标准 DRL 算法，例如 DQN、DDPG、多智能体 DDPG、PPO、SAC、A2C 和 TD3。我们还允许用户通过调整这些 DRL 算法来设计自己的 DRL 算法。\n",
    "\n",
    "* 在本笔记本中，我们使用滚动窗口集成方法（[参考代码](https://github.com/AI4Finance-LLC/Deep-Reinforcement-Learning-for-Automated-Stock-Trading-Ensemble-Strategy-ICAIF-2020/blob/80415db8fa7b2179df6bd7e81ce4fe8dbf913806/model/models.py#L92)）训练和验证 3 个智能体（A2C、PPO、DDPG）。"
   ],
   "id": "b1d86d5987fcd31c"
  },
  {
   "metadata": {},
   "cell_type": "code",
   "outputs": [],
   "execution_count": null,
   "source": [
    "rebalance_window = 63 # `rebalance_window` 是重新训练模型的天数。\n",
    "validation_window = 63 # `validation_window` 是进行验证和交易的天数（例如，如果 `validation_window=63`，则验证和交易周期均为 63 天）。\n",
    "\n",
    "ensemble_agent = DRLEnsembleAgent(df=processed,\n",
    "                 train_period=(TRAIN_START_DATE,TRAIN_END_DATE),\n",
    "                 val_test_period=(TEST_START_DATE,TEST_END_DATE),\n",
    "                 rebalance_window=rebalance_window,\n",
    "                 validation_window=validation_window,\n",
    "                 **env_kwargs)\n",
    "# e_train_gym = StockTradingEnv(df = processed, **env_kwargs)\n",
    "# agent = DRLAgent(e_train_gym)\n",
    "# if_using_a2c = True\n",
    "# model_a2c = agent.get_model(\"a2c\")\n",
    "# # if if_using_a2c:\n",
    "# #   tmp_path = RESULTS_DIR + '/a2c'\n",
    "# #   new_logger_a2c = configure(tmp_path, [\"stdout\", \"csv\", \"tensorboard\"])\n",
    "# #   model_a2c.set_logger(new_logger_a2c)\n",
    "# trained_a2c = agent.train_model(model=model_a2c,\n",
    "#                              tb_log_name='a2c',\n",
    "#                              total_timesteps=50000)"
   ],
   "id": "2bb707213e39b89f"
  },
  {
   "metadata": {},
   "cell_type": "code",
   "outputs": [],
   "execution_count": null,
   "source": [
    "A2C_model_kwargs = {\n",
    "                    'n_steps': 5,\n",
    "                    'ent_coef': 0.005,\n",
    "                    'learning_rate': 0.0007\n",
    "                    }\n",
    "\n",
    "PPO_model_kwargs = {\n",
    "                    \"ent_coef\":0.01,\n",
    "                    \"n_steps\": 2048,\n",
    "                    \"learning_rate\": 0.00025,\n",
    "                    \"batch_size\": 128\n",
    "                    }\n",
    "\n",
    "DDPG_model_kwargs = {\n",
    "                      #\"action_noise\":\"ornstein_uhlenbeck\",\n",
    "                      \"buffer_size\": 10_000,\n",
    "                      \"learning_rate\": 0.0005,\n",
    "                      \"batch_size\": 64\n",
    "                    }\n",
    "\n",
    "SAC_model_kwargs = {\n",
    "    \"batch_size\": 64,\n",
    "    \"buffer_size\": 100000,\n",
    "    \"learning_rate\": 0.0001,\n",
    "    \"learning_starts\": 100,\n",
    "    \"ent_coef\": \"auto_0.1\",\n",
    "}\n",
    "\n",
    "TD3_model_kwargs = {\"batch_size\": 100, \"buffer_size\": 1000000, \"learning_rate\": 0.0001}\n",
    "\n",
    "\n",
    "\n",
    "\n",
    "timesteps_dict = {'a2c' : 10_000,\n",
    "                 'ppo' : 10_000,\n",
    "                 'ddpg' : 10_000,\n",
    "                 'sac' : 10_000,\n",
    "                 'td3' : 10_000\n",
    "                 }"
   ],
   "id": "8f2118341ecdb77e"
  },
  {
   "metadata": {},
   "cell_type": "code",
   "outputs": [],
   "execution_count": null,
   "source": [
    "df_summary = ensemble_agent.run_ensemble_strategy(A2C_model_kwargs,\n",
    "                                                 PPO_model_kwargs,\n",
    "                                                 DDPG_model_kwargs,\n",
    "                                                 SAC_model_kwargs,\n",
    "                                                 TD3_model_kwargs,\n",
    "                                                 timesteps_dict)"
   ],
   "id": "66e430117107fc2a"
  },
  {
   "metadata": {},
   "cell_type": "code",
   "outputs": [],
   "execution_count": null,
   "source": "df_summary",
   "id": "27abd0d441d89ec4"
  },
  {
   "metadata": {},
   "cell_type": "markdown",
   "source": [
    "<a id='6'></a>\n",
    "# 第七部分：回测我们的策略\n",
    "回测在评估交易策略表现中起着关键作用。自动化回测工具是首选，因为它可以减少人为错误。我们通常使用 Quantopian 的 pyfolio 包来回测我们的交易策略。它易于使用，并且包含各种单独的图表，这些图表提供了交易策略表现的全面视图。"
   ],
   "id": "e34845d267905b31"
  },
  {
   "metadata": {},
   "cell_type": "code",
   "outputs": [],
   "execution_count": null,
   "source": "unique_trade_date = processed[(processed.date > TEST_START_DATE)&(processed.date <= TEST_END_DATE)].date.unique()",
   "id": "2c38fa36132cca34"
  },
  {
   "metadata": {},
   "cell_type": "code",
   "outputs": [],
   "execution_count": null,
   "source": [
    "df_trade_date = pd.DataFrame({'datadate':unique_trade_date})\n",
    "\n",
    "df_account_value=pd.DataFrame()\n",
    "for i in range(rebalance_window+validation_window, len(unique_trade_date)+1,rebalance_window):\n",
    "    temp = pd.read_csv('results/account_value_trade_{}_{}.csv'.format('ensemble',i))\n",
    "    df_account_value = pd.concat([df_account_value, temp], ignore_index=True)\n",
    "sharpe=(252**0.5)*df_account_value.account_value.pct_change(1).mean()/df_account_value.account_value.pct_change(1).std()\n",
    "print('Sharpe Ratio: ',sharpe)\n",
    "df_account_value=df_account_value.join(df_trade_date[validation_window:].reset_index(drop=True))"
   ],
   "id": "888ce64c77f337e6"
  },
  {
   "metadata": {},
   "cell_type": "code",
   "outputs": [],
   "execution_count": null,
   "source": "df_account_value.head()",
   "id": "a3ec8c8f22695bfe"
  },
  {
   "metadata": {},
   "cell_type": "code",
   "outputs": [],
   "execution_count": null,
   "source": [
    "%matplotlib inline\n",
    "df_account_value.account_value.plot()"
   ],
   "id": "a199d6eca2a2aa41"
  },
  {
   "metadata": {},
   "cell_type": "markdown",
   "source": [
    "<a id='6.1'></a>\n",
    "## 7.1 BackTestStats\n",
    "传入 `df_account_value`，这些信息存储在 `env` 类中。\n"
   ],
   "id": "9922cc240b6e988b"
  },
  {
   "metadata": {},
   "cell_type": "code",
   "outputs": [],
   "execution_count": null,
   "source": [
    "print(\"==============Get Backtest Results===========\")\n",
    "now = datetime.datetime.now().strftime('%Y%m%d-%Hh%M')\n",
    "\n",
    "perf_stats_all = backtest_stats(account_value=df_account_value)\n",
    "perf_stats_all = pd.DataFrame(perf_stats_all)"
   ],
   "id": "a4b927221cff4123"
  },
  {
   "metadata": {},
   "cell_type": "code",
   "outputs": [],
   "execution_count": null,
   "source": [
    "#baseline stats\n",
    "print(\"==============Get Baseline Stats===========\")\n",
    "df_dji_ = get_baseline(\n",
    "        ticker=\"^DJI\",\n",
    "        start = df_account_value.loc[0,'date'],\n",
    "        end = df_account_value.loc[len(df_account_value)-1,'date'])\n",
    "\n",
    "stats = backtest_stats(df_dji_, value_col_name = 'close')"
   ],
   "id": "c04c4133c489ae1a"
  },
  {
   "metadata": {},
   "cell_type": "code",
   "outputs": [],
   "execution_count": null,
   "source": [
    "df_dji = pd.DataFrame()\n",
    "df_dji['date'] = df_account_value['date']\n",
    "df_dji['dji'] = df_dji_['close'] / df_dji_['close'][0] * env_kwargs[\"initial_amount\"]\n",
    "print(\"df_dji: \", df_dji)\n",
    "df_dji.to_csv(\"df_dji.csv\")\n",
    "df_dji = df_dji.set_index(df_dji.columns[0])\n",
    "print(\"df_dji: \", df_dji)\n",
    "df_dji.to_csv(\"df_dji+.csv\")\n",
    "\n",
    "df_account_value.to_csv('df_account_value.csv')\n"
   ],
   "id": "ac892c4f82a3653b"
  },
  {
   "metadata": {},
   "cell_type": "markdown",
   "source": [
    "<a id='6.2'></a>\n",
    "## 7.2 BackTestPlot"
   ],
   "id": "f7e9086144d35669"
  },
  {
   "metadata": {},
   "cell_type": "code",
   "outputs": [],
   "execution_count": null,
   "source": [
    "\n",
    "\n",
    "# print(\"==============Compare to DJIA===========\")\n",
    "# %matplotlib inline\n",
    "# # S&P 500: ^GSPC\n",
    "# # Dow Jones Index: ^DJI\n",
    "# # NASDAQ 100: ^NDX\n",
    "# backtest_plot(df_account_value,\n",
    "#               baseline_ticker = '^DJI',\n",
    "#               baseline_start = df_account_value.loc[0,'date'],\n",
    "#               baseline_end = df_account_value.loc[len(df_account_value)-1,'date'])\n",
    "df.to_csv(\"df.csv\")\n",
    "df_result_ensemble = pd.DataFrame({'date': df_account_value['date'], 'ensemble': df_account_value['account_value']})\n",
    "df_result_ensemble = df_result_ensemble.set_index('date')\n",
    "\n",
    "print(\"df_result_ensemble.columns: \", df_result_ensemble.columns)\n",
    "\n",
    "# df_result_ensemble.drop(df_result_ensemble.columns[0], axis = 1)\n",
    "print(\"df_trade_date: \", df_trade_date)\n",
    "# df_result_ensemble['date'] = df_trade_date['datadate']\n",
    "# df_result_ensemble['account_value'] = df_account_value['account_value']\n",
    "df_result_ensemble.to_csv(\"df_result_ensemble.csv\")\n",
    "print(\"df_result_ensemble: \", df_result_ensemble)\n",
    "print(\"==============Compare to DJIA===========\")\n",
    "result = pd.DataFrame()\n",
    "# result = pd.merge(result, df_result_ensemble, left_index=True, right_index=True)\n",
    "# result = pd.merge(result, df_dji, left_index=True, right_index=True)\n",
    "result = pd.merge(df_result_ensemble, df_dji, left_index=True, right_index=True)\n",
    "print(\"result: \", result)\n",
    "result.to_csv(\"result.csv\")\n",
    "result.columns = ['ensemble', 'dji']\n",
    "\n",
    "%matplotlib inline\n",
    "plt.rcParams[\"figure.figsize\"] = (15,5)\n",
    "plt.figure();\n",
    "result.plot();"
   ],
   "id": "c0a0ab45218aa03d"
  },
  {
   "metadata": {},
   "cell_type": "markdown",
   "source": "",
   "id": "d9e4ec03524361ce"
  }
 ],
 "metadata": {},
 "nbformat": 5,
 "nbformat_minor": 9
}
