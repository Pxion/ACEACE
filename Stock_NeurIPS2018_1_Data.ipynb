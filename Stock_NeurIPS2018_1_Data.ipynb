{
 "cells": [
  {
   "metadata": {},
   "cell_type": "markdown",
   "source": "# Part 1. Install Packages",
   "id": "ea716bb7ec591a22"
  },
  {
   "metadata": {},
   "cell_type": "code",
   "outputs": [],
   "execution_count": null,
   "source": [
    "## install finrl library\n",
    "!pip install git+https://github.com/AI4Finance-Foundation/FinRL.git"
   ],
   "id": "96b2aa6b61de91e6"
  },
  {
   "metadata": {},
   "cell_type": "code",
   "outputs": [],
   "execution_count": null,
   "source": [
    "import pandas as pd\n",
    "import numpy as np\n",
    "import datetime\n",
    "import yfinance as yf\n",
    "\n",
    "from finrl.meta.preprocessor.yahoodownloader import YahooDownloader\n",
    "from finrl.meta.preprocessor.preprocessors import FeatureEngineer, data_split\n",
    "from finrl import config_tickers\n",
    "from finrl.config import INDICATORS\n",
    "\n",
    "import itertools"
   ],
   "id": "80d65a59c69699aa"
  },
  {
   "metadata": {},
   "cell_type": "markdown",
   "source": "# Part 2. Fetch data",
   "id": "bf790be4c9996876"
  },
  {
   "metadata": {},
   "cell_type": "markdown",
   "source": "[yfinance](https://github.com/ranaroussi/yfinance) is an open-source library that provides APIs fetching historical data form Yahoo Finance. In FinRL, we have a class called [YahooDownloader](https://github.com/AI4Finance-Foundation/FinRL/blob/master/finrl/meta/preprocessor/yahoodownloader.py) that use yfinance to fetch data from Yahoo Finance.",
   "id": "1d8c1a918ab15a1f"
  },
  {
   "metadata": {},
   "cell_type": "markdown",
   "source": "**OHLCV**: Data downloaded are in the form of OHLCV, corresponding to **open, high, low, close, volume,** respectively. OHLCV is important because they contain most of numerical information of a stock in time series. From OHLCV, traders can get further judgement and prediction like the momentum, people's interest, market trends, etc.",
   "id": "faddec6320a3050b"
  },
  {
   "metadata": {},
   "cell_type": "markdown",
   "source": "## Data for a single ticker",
   "id": "4459d7db90c06dc0"
  },
  {
   "metadata": {},
   "cell_type": "markdown",
   "source": "Here we provide two ways to fetch data with single ticker, let's take Apple Inc. (AAPL) as an example.",
   "id": "27991fdd02ccc4ac"
  },
  {
   "metadata": {},
   "cell_type": "markdown",
   "source": "### Using yfinance",
   "id": "b38198af07ecf086"
  },
  {
   "metadata": {},
   "cell_type": "code",
   "outputs": [],
   "execution_count": null,
   "source": "aapl_df_yf = yf.download(tickers = \"aapl\", start='2020-01-01', end='2020-01-31')",
   "id": "8c542a1a884ecdb5"
  },
  {
   "metadata": {},
   "cell_type": "code",
   "outputs": [],
   "execution_count": null,
   "source": "aapl_df_yf.head()",
   "id": "806416ca9b5456fe"
  },
  {
   "metadata": {},
   "cell_type": "markdown",
   "source": "### Using FinRL",
   "id": "a5d0fabe08a77297"
  },
  {
   "metadata": {},
   "cell_type": "markdown",
   "source": "In FinRL's YahooDownloader, we modified the data frame to the form that convenient for further data processing process. We use adjusted close price instead of close price, and add a column representing the day of a week (0-4 corresponding to Monday-Friday).",
   "id": "bf8e5d400eb5e5c2"
  },
  {
   "metadata": {},
   "cell_type": "code",
   "outputs": [],
   "execution_count": null,
   "source": [
    "aapl_df_finrl = YahooDownloader(start_date = '2020-01-01',\n",
    "                                end_date = '2020-01-31',\n",
    "                                ticker_list = ['aapl']).fetch_data()"
   ],
   "id": "4b48c13156384634"
  },
  {
   "metadata": {},
   "cell_type": "code",
   "outputs": [],
   "execution_count": null,
   "source": "aapl_df_finrl.head()",
   "id": "68d3a5d6c997ad10"
  },
  {
   "metadata": {},
   "cell_type": "markdown",
   "source": "## Data for the chosen tickers",
   "id": "dae54953f6cce73d"
  },
  {
   "metadata": {},
   "cell_type": "code",
   "outputs": [],
   "execution_count": null,
   "source": "config_tickers.DOW_30_TICKER",
   "id": "256234952c794cfe"
  },
  {
   "metadata": {},
   "cell_type": "code",
   "outputs": [],
   "execution_count": null,
   "source": [
    "TRAIN_START_DATE = '2009-01-01'\n",
    "TRAIN_END_DATE = '2020-07-01'\n",
    "TRADE_START_DATE = '2020-07-01'\n",
    "TRADE_END_DATE = '2021-10-29'"
   ],
   "id": "e6bcf74a2413b65c"
  },
  {
   "metadata": {},
   "cell_type": "code",
   "outputs": [],
   "execution_count": null,
   "source": [
    "df_raw = YahooDownloader(start_date = TRAIN_START_DATE,\n",
    "                     end_date = TRADE_END_DATE,\n",
    "                     ticker_list = config_tickers.DOW_30_TICKER).fetch_data()"
   ],
   "id": "ab38d295ac01fa0d"
  },
  {
   "metadata": {},
   "cell_type": "code",
   "outputs": [],
   "execution_count": null,
   "source": "df_raw.head()",
   "id": "3d396c0da3a5f400"
  },
  {
   "metadata": {},
   "cell_type": "markdown",
   "source": [
    "# Part 3: Preprocess Data\n",
    "We need to check for missing data and do feature engineering to convert the data point into a state.\n",
    "* **Adding technical indicators**. In practical trading, various information needs to be taken into account, such as historical prices, current holding shares, technical indicators, etc. Here, we demonstrate two trend-following technical indicators: MACD and RSI.\n",
    "* **Adding turbulence index**. Risk-aversion reflects whether an investor prefers to protect the capital. It also influences one's trading strategy when facing different market volatility level. To control the risk in a worst-case scenario, such as financial crisis of 2007–2008, FinRL employs the turbulence index that measures extreme fluctuation of asset price."
   ],
   "id": "cd9ce790b8ed69ee"
  },
  {
   "metadata": {},
   "cell_type": "markdown",
   "source": "Hear let's take **MACD** as an example. Moving average convergence/divergence (MACD) is one of the most commonly used indicator showing bull and bear market. Its calculation is based on EMA (Exponential Moving Average indicator, measuring trend direction over a period of time.)",
   "id": "1bcca43de8180c72"
  },
  {
   "metadata": {},
   "cell_type": "code",
   "outputs": [],
   "execution_count": null,
   "source": [
    "fe = FeatureEngineer(use_technical_indicator=True,\n",
    "                     tech_indicator_list = INDICATORS,\n",
    "                     use_vix=True,\n",
    "                     use_turbulence=True,\n",
    "                     user_defined_feature = False)\n",
    "\n",
    "processed = fe.preprocess_data(df_raw)"
   ],
   "id": "ee0adb7e37c89758"
  },
  {
   "metadata": {},
   "cell_type": "code",
   "outputs": [],
   "execution_count": null,
   "source": [
    "list_ticker = processed[\"tic\"].unique().tolist()\n",
    "list_date = list(pd.date_range(processed['date'].min(),processed['date'].max()).astype(str))\n",
    "combination = list(itertools.product(list_date,list_ticker))\n",
    "\n",
    "processed_full = pd.DataFrame(combination,columns=[\"date\",\"tic\"]).merge(processed,on=[\"date\",\"tic\"],how=\"left\")\n",
    "processed_full = processed_full[processed_full['date'].isin(processed['date'])]\n",
    "processed_full = processed_full.sort_values(['date','tic'])\n",
    "\n",
    "processed_full = processed_full.fillna(0)"
   ],
   "id": "ae51633552a265e9"
  },
  {
   "metadata": {},
   "cell_type": "code",
   "outputs": [],
   "execution_count": null,
   "source": "processed_full.head()",
   "id": "e71d6446e6e30c7d"
  },
  {
   "metadata": {},
   "cell_type": "markdown",
   "source": "# Part 4: Save the Data",
   "id": "3ba5e2e72585671"
  },
  {
   "metadata": {},
   "cell_type": "markdown",
   "source": "### Split the data for training and trading",
   "id": "2157da6c03df45f7"
  },
  {
   "metadata": {},
   "cell_type": "code",
   "outputs": [],
   "execution_count": null,
   "source": [
    "train = data_split(processed_full, TRAIN_START_DATE,TRAIN_END_DATE)\n",
    "trade = data_split(processed_full, TRADE_START_DATE,TRADE_END_DATE)\n",
    "print(len(train))\n",
    "print(len(trade))"
   ],
   "id": "e60cfcbcd9ad6bba"
  },
  {
   "metadata": {},
   "cell_type": "markdown",
   "source": "### Save data to csv file",
   "id": "aede571ecba58c98"
  },
  {
   "metadata": {},
   "cell_type": "markdown",
   "source": [
    "For Colab users, you can open the virtual directory in colab and manually download the files.\n",
    "\n",
    "For users running on your local environment, the csv files should be at the same directory of this notebook."
   ],
   "id": "6c30476b45d9dff3"
  },
  {
   "metadata": {},
   "cell_type": "code",
   "outputs": [],
   "execution_count": null,
   "source": [
    "train.to_csv('train_data.csv')\n",
    "trade.to_csv('trade_data.csv')"
   ],
   "id": "3ea1508ca11ec90f"
  }
 ],
 "metadata": {
  "kernelspec": {
   "name": "python3",
   "language": "python",
   "display_name": "Python 3 (ipykernel)"
  }
 },
 "nbformat": 5,
 "nbformat_minor": 9
}
