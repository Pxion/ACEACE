{
 "cells": [
  {
   "metadata": {},
   "cell_type": "markdown",
   "source": "# Part 1. Install Packages",
   "id": "f5df57f20937a5d4"
  },
  {
   "metadata": {
    "ExecuteTime": {
     "end_time": "2025-03-18T03:47:23.971752Z",
     "start_time": "2025-03-18T03:47:23.960091Z"
    }
   },
   "cell_type": "code",
   "source": [
    "## install finrl library\n",
    "# !pip install git+https://github.com/AI4Finance-Foundation/FinRL.git"
   ],
   "id": "d238b635119a631a",
   "outputs": [],
   "execution_count": 1
  },
  {
   "metadata": {
    "ExecuteTime": {
     "end_time": "2025-03-18T03:47:27.715636Z",
     "start_time": "2025-03-18T03:47:23.979591Z"
    }
   },
   "cell_type": "code",
   "source": [
    "import pandas as pd\n",
    "import numpy as np\n",
    "import datetime\n",
    "import yfinance as yf\n",
    "\n",
    "from finrl.meta.preprocessor.yahoodownloader import YahooDownloader\n",
    "from finrl.meta.preprocessor.preprocessors import FeatureEngineer, data_split\n",
    "from finrl import config_tickers\n",
    "from finrl.config import INDICATORS\n",
    "\n",
    "import itertools"
   ],
   "id": "a0d400ffc112a9c0",
   "outputs": [],
   "execution_count": 2
  },
  {
   "metadata": {},
   "cell_type": "markdown",
   "source": "# Part 2. Fetch data",
   "id": "70e1c80fec939c91"
  },
  {
   "metadata": {},
   "cell_type": "markdown",
   "source": "[yfinance](https://github.com/ranaroussi/yfinance) is an open-source library that provides APIs fetching historical data form Yahoo Finance. In FinRL, we have a class called [YahooDownloader](https://github.com/AI4Finance-Foundation/FinRL/blob/master/finrl/meta/preprocessor/yahoodownloader.py) that use yfinance to fetch data from Yahoo Finance.",
   "id": "c466f9eee174cf2e"
  },
  {
   "metadata": {},
   "cell_type": "markdown",
   "source": "**OHLCV**: Data downloaded are in the form of OHLCV, corresponding to **open, high, low, close, volume,** respectively. OHLCV is important because they contain most of numerical information of a stock in time series. From OHLCV, traders can get further judgement and prediction like the momentum, people's interest, market trends, etc.",
   "id": "1beb45b7ec4358a7"
  },
  {
   "metadata": {},
   "cell_type": "markdown",
   "source": "## Data for a single ticker",
   "id": "2d5f3d24dde22107"
  },
  {
   "metadata": {},
   "cell_type": "markdown",
   "source": "Here we provide two ways to fetch data with single ticker, let's take Apple Inc. (AAPL) as an example.",
   "id": "9c5608792e128c62"
  },
  {
   "metadata": {},
   "cell_type": "markdown",
   "source": "### Using yfinance",
   "id": "5bcdede5af795081"
  },
  {
   "metadata": {
    "ExecuteTime": {
     "end_time": "2025-03-18T03:47:28.063225Z",
     "start_time": "2025-03-18T03:47:28.048343Z"
    }
   },
   "cell_type": "code",
   "source": "# aapl_df_yf = yf.download(tickers = \"aapl\", start='2020-01-01', end='2020-01-31')",
   "id": "4c1829e17ab22bcd",
   "outputs": [],
   "execution_count": 3
  },
  {
   "metadata": {
    "ExecuteTime": {
     "end_time": "2025-03-18T03:47:28.094482Z",
     "start_time": "2025-03-18T03:47:28.080015Z"
    }
   },
   "cell_type": "code",
   "source": "# aapl_df_yf.head()",
   "id": "76e12192920ec3d6",
   "outputs": [],
   "execution_count": 4
  },
  {
   "metadata": {},
   "cell_type": "markdown",
   "source": "### Using FinRL",
   "id": "9b0ab2f32607aedc"
  },
  {
   "metadata": {},
   "cell_type": "markdown",
   "source": "In FinRL's YahooDownloader, we modified the data frame to the form that convenient for further data processing process. We use adjusted close price instead of close price, and add a column representing the day of a week (0-4 corresponding to Monday-Friday).",
   "id": "740dff2c2a51575a"
  },
  {
   "metadata": {
    "ExecuteTime": {
     "end_time": "2025-03-18T03:47:28.125305Z",
     "start_time": "2025-03-18T03:47:28.110302Z"
    }
   },
   "cell_type": "code",
   "source": [
    "# aapl_df_finrl = YahooDownloader(start_date = '2020-01-01',\n",
    "#                                 end_date = '2020-01-31',\n",
    "                                # ticker_list = ['aapl']).fetch_data()"
   ],
   "id": "65ce29344cdeaa97",
   "outputs": [],
   "execution_count": 5
  },
  {
   "metadata": {
    "ExecuteTime": {
     "end_time": "2025-03-18T03:47:28.157344Z",
     "start_time": "2025-03-18T03:47:28.142188Z"
    }
   },
   "cell_type": "code",
   "source": "# aapl_df_finrl.head()",
   "id": "dcc4c3afefa7da5a",
   "outputs": [],
   "execution_count": 6
  },
  {
   "metadata": {},
   "cell_type": "markdown",
   "source": "## Data for the chosen tickers",
   "id": "6091054012989891"
  },
  {
   "metadata": {
    "ExecuteTime": {
     "end_time": "2025-03-18T03:47:28.188928Z",
     "start_time": "2025-03-18T03:47:28.173910Z"
    }
   },
   "cell_type": "code",
   "source": "config_tickers.DOW_30_TICKER",
   "id": "9bfe46c878279fe",
   "outputs": [
    {
     "data": {
      "text/plain": [
       "['AXP',\n",
       " 'AMGN',\n",
       " 'AAPL',\n",
       " 'BA',\n",
       " 'CAT',\n",
       " 'CSCO',\n",
       " 'CVX',\n",
       " 'GS',\n",
       " 'HD',\n",
       " 'HON',\n",
       " 'IBM',\n",
       " 'INTC',\n",
       " 'JNJ',\n",
       " 'KO',\n",
       " 'JPM',\n",
       " 'MCD',\n",
       " 'MMM',\n",
       " 'MRK',\n",
       " 'MSFT',\n",
       " 'NKE',\n",
       " 'PG',\n",
       " 'TRV',\n",
       " 'UNH',\n",
       " 'CRM',\n",
       " 'VZ',\n",
       " 'V',\n",
       " 'WBA',\n",
       " 'WMT',\n",
       " 'DIS',\n",
       " 'DOW']"
      ]
     },
     "execution_count": 7,
     "metadata": {},
     "output_type": "execute_result"
    }
   ],
   "execution_count": 7
  },
  {
   "metadata": {
    "ExecuteTime": {
     "end_time": "2025-03-18T03:47:28.220438Z",
     "start_time": "2025-03-18T03:47:28.205498Z"
    }
   },
   "cell_type": "code",
   "source": [
    "TRAIN_START_DATE = '2009-01-01'\n",
    "TRAIN_END_DATE = '2020-07-01'\n",
    "TRADE_START_DATE = '2020-07-01'\n",
    "TRADE_END_DATE = '2021-10-29'"
   ],
   "id": "163ee929481f5303",
   "outputs": [],
   "execution_count": 8
  },
  {
   "metadata": {
    "ExecuteTime": {
     "end_time": "2025-03-18T03:47:42.476465Z",
     "start_time": "2025-03-18T03:47:28.236590Z"
    }
   },
   "cell_type": "code",
   "source": [
    "df_raw = YahooDownloader(start_date = TRAIN_START_DATE,\n",
    "                     end_date = TRADE_END_DATE,\n",
    "                     ticker_list = config_tickers.DOW_30_TICKER).fetch_data()"
   ],
   "id": "80001d2ad9612ea4",
   "outputs": [
    {
     "name": "stderr",
     "output_type": "stream",
     "text": [
      "[*********************100%***********************]  1 of 1 completed\n",
      "[*********************100%***********************]  1 of 1 completed\n",
      "[*********************100%***********************]  1 of 1 completed\n",
      "[*********************100%***********************]  1 of 1 completed\n",
      "[*********************100%***********************]  1 of 1 completed\n",
      "[*********************100%***********************]  1 of 1 completed\n",
      "[*********************100%***********************]  1 of 1 completed\n",
      "[*********************100%***********************]  1 of 1 completed\n",
      "[*********************100%***********************]  1 of 1 completed\n",
      "[*********************100%***********************]  1 of 1 completed\n",
      "[*********************100%***********************]  1 of 1 completed\n",
      "[*********************100%***********************]  1 of 1 completed\n",
      "[*********************100%***********************]  1 of 1 completed\n",
      "[*********************100%***********************]  1 of 1 completed\n",
      "[*********************100%***********************]  1 of 1 completed\n",
      "[*********************100%***********************]  1 of 1 completed\n",
      "[*********************100%***********************]  1 of 1 completed\n",
      "[*********************100%***********************]  1 of 1 completed\n",
      "[*********************100%***********************]  1 of 1 completed\n",
      "[*********************100%***********************]  1 of 1 completed\n",
      "[*********************100%***********************]  1 of 1 completed\n",
      "[*********************100%***********************]  1 of 1 completed\n",
      "[*********************100%***********************]  1 of 1 completed\n",
      "[*********************100%***********************]  1 of 1 completed\n",
      "[*********************100%***********************]  1 of 1 completed\n",
      "[*********************100%***********************]  1 of 1 completed\n",
      "[*********************100%***********************]  1 of 1 completed\n",
      "[*********************100%***********************]  1 of 1 completed\n",
      "[*********************100%***********************]  1 of 1 completed\n",
      "[*********************100%***********************]  1 of 1 completed\n"
     ]
    },
    {
     "name": "stdout",
     "output_type": "stream",
     "text": [
      "Shape of DataFrame:  (94301, 8)\n"
     ]
    }
   ],
   "execution_count": 9
  },
  {
   "metadata": {
    "ExecuteTime": {
     "end_time": "2025-03-18T03:47:42.508563Z",
     "start_time": "2025-03-18T03:47:42.493460Z"
    }
   },
   "cell_type": "code",
   "source": "df_raw.head()",
   "id": "b6b8d01e9b2f87aa",
   "outputs": [
    {
     "data": {
      "text/plain": [
       "Price        date      close       high        low       open     volume  \\\n",
       "0      2009-01-02   2.730993   3.251429   3.041429   3.067143  746015200   \n",
       "1      2009-01-02  41.151939  59.080002  57.750000  58.590000    6547900   \n",
       "2      2009-01-02  14.978853  19.520000  18.400000  18.570000   10955700   \n",
       "3      2009-01-02  33.941101  45.560001  42.779999  42.799999    7010200   \n",
       "4      2009-01-02  30.490793  46.980000  44.709999  44.910000    7117200   \n",
       "\n",
       "Price   tic  day  \n",
       "0      AAPL    4  \n",
       "1      AMGN    4  \n",
       "2       AXP    4  \n",
       "3        BA    4  \n",
       "4       CAT    4  "
      ],
      "text/html": [
       "<div>\n",
       "<style scoped>\n",
       "    .dataframe tbody tr th:only-of-type {\n",
       "        vertical-align: middle;\n",
       "    }\n",
       "\n",
       "    .dataframe tbody tr th {\n",
       "        vertical-align: top;\n",
       "    }\n",
       "\n",
       "    .dataframe thead th {\n",
       "        text-align: right;\n",
       "    }\n",
       "</style>\n",
       "<table border=\"1\" class=\"dataframe\">\n",
       "  <thead>\n",
       "    <tr style=\"text-align: right;\">\n",
       "      <th>Price</th>\n",
       "      <th>date</th>\n",
       "      <th>close</th>\n",
       "      <th>high</th>\n",
       "      <th>low</th>\n",
       "      <th>open</th>\n",
       "      <th>volume</th>\n",
       "      <th>tic</th>\n",
       "      <th>day</th>\n",
       "    </tr>\n",
       "  </thead>\n",
       "  <tbody>\n",
       "    <tr>\n",
       "      <th>0</th>\n",
       "      <td>2009-01-02</td>\n",
       "      <td>2.730993</td>\n",
       "      <td>3.251429</td>\n",
       "      <td>3.041429</td>\n",
       "      <td>3.067143</td>\n",
       "      <td>746015200</td>\n",
       "      <td>AAPL</td>\n",
       "      <td>4</td>\n",
       "    </tr>\n",
       "    <tr>\n",
       "      <th>1</th>\n",
       "      <td>2009-01-02</td>\n",
       "      <td>41.151939</td>\n",
       "      <td>59.080002</td>\n",
       "      <td>57.750000</td>\n",
       "      <td>58.590000</td>\n",
       "      <td>6547900</td>\n",
       "      <td>AMGN</td>\n",
       "      <td>4</td>\n",
       "    </tr>\n",
       "    <tr>\n",
       "      <th>2</th>\n",
       "      <td>2009-01-02</td>\n",
       "      <td>14.978853</td>\n",
       "      <td>19.520000</td>\n",
       "      <td>18.400000</td>\n",
       "      <td>18.570000</td>\n",
       "      <td>10955700</td>\n",
       "      <td>AXP</td>\n",
       "      <td>4</td>\n",
       "    </tr>\n",
       "    <tr>\n",
       "      <th>3</th>\n",
       "      <td>2009-01-02</td>\n",
       "      <td>33.941101</td>\n",
       "      <td>45.560001</td>\n",
       "      <td>42.779999</td>\n",
       "      <td>42.799999</td>\n",
       "      <td>7010200</td>\n",
       "      <td>BA</td>\n",
       "      <td>4</td>\n",
       "    </tr>\n",
       "    <tr>\n",
       "      <th>4</th>\n",
       "      <td>2009-01-02</td>\n",
       "      <td>30.490793</td>\n",
       "      <td>46.980000</td>\n",
       "      <td>44.709999</td>\n",
       "      <td>44.910000</td>\n",
       "      <td>7117200</td>\n",
       "      <td>CAT</td>\n",
       "      <td>4</td>\n",
       "    </tr>\n",
       "  </tbody>\n",
       "</table>\n",
       "</div>"
      ]
     },
     "execution_count": 10,
     "metadata": {},
     "output_type": "execute_result"
    }
   ],
   "execution_count": 10
  },
  {
   "metadata": {},
   "cell_type": "markdown",
   "source": [
    "# Part 3: Preprocess Data\n",
    "We need to check for missing data and do feature engineering to convert the data point into a state.\n",
    "* **Adding technical indicators**. In practical trading, various information needs to be taken into account, such as historical prices, current holding shares, technical indicators, etc. Here, we demonstrate two trend-following technical indicators: MACD and RSI.\n",
    "* **Adding turbulence index**. Risk-aversion reflects whether an investor prefers to protect the capital. It also influences one's trading strategy when facing different market volatility level. To control the risk in a worst-case scenario, such as financial crisis of 2007–2008, FinRL employs the turbulence index that measures extreme fluctuation of asset price."
   ],
   "id": "9ad4883118a22c26"
  },
  {
   "metadata": {},
   "cell_type": "markdown",
   "source": "Hear let's take **MACD** as an example. Moving average convergence/divergence (MACD) is one of the most commonly used indicator showing bull and bear market. Its calculation is based on EMA (Exponential Moving Average indicator, measuring trend direction over a period of time.)",
   "id": "12bc326da8bee0ec"
  },
  {
   "metadata": {
    "ExecuteTime": {
     "end_time": "2025-03-18T03:47:50.635700Z",
     "start_time": "2025-03-18T03:47:42.557563Z"
    }
   },
   "cell_type": "code",
   "source": [
    "fe = FeatureEngineer(use_technical_indicator=True,\n",
    "                     tech_indicator_list = INDICATORS,\n",
    "                     use_vix=True,\n",
    "                     use_turbulence=True,\n",
    "                     user_defined_feature = False)\n",
    "\n",
    "processed = fe.preprocess_data(df_raw)"
   ],
   "id": "ced2588774c9e8c7",
   "outputs": [
    {
     "name": "stdout",
     "output_type": "stream",
     "text": [
      "Successfully added technical indicators\n"
     ]
    },
    {
     "name": "stderr",
     "output_type": "stream",
     "text": [
      "[*********************100%***********************]  1 of 1 completed\n"
     ]
    },
    {
     "name": "stdout",
     "output_type": "stream",
     "text": [
      "Shape of DataFrame:  (3228, 8)\n",
      "Successfully added vix\n",
      "Successfully added turbulence index\n"
     ]
    }
   ],
   "execution_count": 11
  },
  {
   "metadata": {
    "ExecuteTime": {
     "end_time": "2025-03-18T03:47:50.774601Z",
     "start_time": "2025-03-18T03:47:50.667806Z"
    }
   },
   "cell_type": "code",
   "source": [
    "list_ticker = processed[\"tic\"].unique().tolist()\n",
    "list_date = list(pd.date_range(processed['date'].min(),processed['date'].max()).astype(str))\n",
    "combination = list(itertools.product(list_date,list_ticker))\n",
    "\n",
    "processed_full = pd.DataFrame(combination,columns=[\"date\",\"tic\"]).merge(processed,on=[\"date\",\"tic\"],how=\"left\")\n",
    "processed_full = processed_full[processed_full['date'].isin(processed['date'])]\n",
    "processed_full = processed_full.sort_values(['date','tic'])\n",
    "\n",
    "processed_full = processed_full.fillna(0)"
   ],
   "id": "8011a0871a0caa73",
   "outputs": [],
   "execution_count": 12
  },
  {
   "metadata": {
    "ExecuteTime": {
     "end_time": "2025-03-18T03:47:50.789582Z",
     "start_time": "2025-03-18T03:47:50.780081Z"
    }
   },
   "cell_type": "code",
   "source": "processed_full.head()",
   "id": "2f89a2c9560e7f81",
   "outputs": [
    {
     "data": {
      "text/plain": [
       "         date   tic      close       high        low       open       volume  \\\n",
       "0  2009-01-02  AAPL   2.730993   3.251429   3.041429   3.067143  746015200.0   \n",
       "1  2009-01-02  AMGN  41.151939  59.080002  57.750000  58.590000    6547900.0   \n",
       "2  2009-01-02   AXP  14.978853  19.520000  18.400000  18.570000   10955700.0   \n",
       "3  2009-01-02    BA  33.941101  45.560001  42.779999  42.799999    7010200.0   \n",
       "4  2009-01-02   CAT  30.490793  46.980000  44.709999  44.910000    7117200.0   \n",
       "\n",
       "   day  macd   boll_ub   boll_lb  rsi_30     cci_30  dx_30  close_30_sma  \\\n",
       "0  4.0   0.0  2.951623  2.625622   100.0  66.666667  100.0      2.730993   \n",
       "1  4.0   0.0  2.951623  2.625622   100.0  66.666667  100.0     41.151939   \n",
       "2  4.0   0.0  2.951623  2.625622   100.0  66.666667  100.0     14.978853   \n",
       "3  4.0   0.0  2.951623  2.625622   100.0  66.666667  100.0     33.941101   \n",
       "4  4.0   0.0  2.951623  2.625622   100.0  66.666667  100.0     30.490793   \n",
       "\n",
       "   close_60_sma        vix  turbulence  \n",
       "0      2.730993  39.189999         0.0  \n",
       "1     41.151939  39.189999         0.0  \n",
       "2     14.978853  39.189999         0.0  \n",
       "3     33.941101  39.189999         0.0  \n",
       "4     30.490793  39.189999         0.0  "
      ],
      "text/html": [
       "<div>\n",
       "<style scoped>\n",
       "    .dataframe tbody tr th:only-of-type {\n",
       "        vertical-align: middle;\n",
       "    }\n",
       "\n",
       "    .dataframe tbody tr th {\n",
       "        vertical-align: top;\n",
       "    }\n",
       "\n",
       "    .dataframe thead th {\n",
       "        text-align: right;\n",
       "    }\n",
       "</style>\n",
       "<table border=\"1\" class=\"dataframe\">\n",
       "  <thead>\n",
       "    <tr style=\"text-align: right;\">\n",
       "      <th></th>\n",
       "      <th>date</th>\n",
       "      <th>tic</th>\n",
       "      <th>close</th>\n",
       "      <th>high</th>\n",
       "      <th>low</th>\n",
       "      <th>open</th>\n",
       "      <th>volume</th>\n",
       "      <th>day</th>\n",
       "      <th>macd</th>\n",
       "      <th>boll_ub</th>\n",
       "      <th>boll_lb</th>\n",
       "      <th>rsi_30</th>\n",
       "      <th>cci_30</th>\n",
       "      <th>dx_30</th>\n",
       "      <th>close_30_sma</th>\n",
       "      <th>close_60_sma</th>\n",
       "      <th>vix</th>\n",
       "      <th>turbulence</th>\n",
       "    </tr>\n",
       "  </thead>\n",
       "  <tbody>\n",
       "    <tr>\n",
       "      <th>0</th>\n",
       "      <td>2009-01-02</td>\n",
       "      <td>AAPL</td>\n",
       "      <td>2.730993</td>\n",
       "      <td>3.251429</td>\n",
       "      <td>3.041429</td>\n",
       "      <td>3.067143</td>\n",
       "      <td>746015200.0</td>\n",
       "      <td>4.0</td>\n",
       "      <td>0.0</td>\n",
       "      <td>2.951623</td>\n",
       "      <td>2.625622</td>\n",
       "      <td>100.0</td>\n",
       "      <td>66.666667</td>\n",
       "      <td>100.0</td>\n",
       "      <td>2.730993</td>\n",
       "      <td>2.730993</td>\n",
       "      <td>39.189999</td>\n",
       "      <td>0.0</td>\n",
       "    </tr>\n",
       "    <tr>\n",
       "      <th>1</th>\n",
       "      <td>2009-01-02</td>\n",
       "      <td>AMGN</td>\n",
       "      <td>41.151939</td>\n",
       "      <td>59.080002</td>\n",
       "      <td>57.750000</td>\n",
       "      <td>58.590000</td>\n",
       "      <td>6547900.0</td>\n",
       "      <td>4.0</td>\n",
       "      <td>0.0</td>\n",
       "      <td>2.951623</td>\n",
       "      <td>2.625622</td>\n",
       "      <td>100.0</td>\n",
       "      <td>66.666667</td>\n",
       "      <td>100.0</td>\n",
       "      <td>41.151939</td>\n",
       "      <td>41.151939</td>\n",
       "      <td>39.189999</td>\n",
       "      <td>0.0</td>\n",
       "    </tr>\n",
       "    <tr>\n",
       "      <th>2</th>\n",
       "      <td>2009-01-02</td>\n",
       "      <td>AXP</td>\n",
       "      <td>14.978853</td>\n",
       "      <td>19.520000</td>\n",
       "      <td>18.400000</td>\n",
       "      <td>18.570000</td>\n",
       "      <td>10955700.0</td>\n",
       "      <td>4.0</td>\n",
       "      <td>0.0</td>\n",
       "      <td>2.951623</td>\n",
       "      <td>2.625622</td>\n",
       "      <td>100.0</td>\n",
       "      <td>66.666667</td>\n",
       "      <td>100.0</td>\n",
       "      <td>14.978853</td>\n",
       "      <td>14.978853</td>\n",
       "      <td>39.189999</td>\n",
       "      <td>0.0</td>\n",
       "    </tr>\n",
       "    <tr>\n",
       "      <th>3</th>\n",
       "      <td>2009-01-02</td>\n",
       "      <td>BA</td>\n",
       "      <td>33.941101</td>\n",
       "      <td>45.560001</td>\n",
       "      <td>42.779999</td>\n",
       "      <td>42.799999</td>\n",
       "      <td>7010200.0</td>\n",
       "      <td>4.0</td>\n",
       "      <td>0.0</td>\n",
       "      <td>2.951623</td>\n",
       "      <td>2.625622</td>\n",
       "      <td>100.0</td>\n",
       "      <td>66.666667</td>\n",
       "      <td>100.0</td>\n",
       "      <td>33.941101</td>\n",
       "      <td>33.941101</td>\n",
       "      <td>39.189999</td>\n",
       "      <td>0.0</td>\n",
       "    </tr>\n",
       "    <tr>\n",
       "      <th>4</th>\n",
       "      <td>2009-01-02</td>\n",
       "      <td>CAT</td>\n",
       "      <td>30.490793</td>\n",
       "      <td>46.980000</td>\n",
       "      <td>44.709999</td>\n",
       "      <td>44.910000</td>\n",
       "      <td>7117200.0</td>\n",
       "      <td>4.0</td>\n",
       "      <td>0.0</td>\n",
       "      <td>2.951623</td>\n",
       "      <td>2.625622</td>\n",
       "      <td>100.0</td>\n",
       "      <td>66.666667</td>\n",
       "      <td>100.0</td>\n",
       "      <td>30.490793</td>\n",
       "      <td>30.490793</td>\n",
       "      <td>39.189999</td>\n",
       "      <td>0.0</td>\n",
       "    </tr>\n",
       "  </tbody>\n",
       "</table>\n",
       "</div>"
      ]
     },
     "execution_count": 13,
     "metadata": {},
     "output_type": "execute_result"
    }
   ],
   "execution_count": 13
  },
  {
   "metadata": {},
   "cell_type": "markdown",
   "source": "# Part 4: Save the Data",
   "id": "ba2c445ad9d685d1"
  },
  {
   "metadata": {},
   "cell_type": "markdown",
   "source": "### Split the data for training and trading",
   "id": "d7fcbc7a18e43410"
  },
  {
   "metadata": {
    "ExecuteTime": {
     "end_time": "2025-03-18T03:47:50.898696Z",
     "start_time": "2025-03-18T03:47:50.853582Z"
    }
   },
   "cell_type": "code",
   "source": [
    "train = data_split(processed_full, TRAIN_START_DATE,TRAIN_END_DATE)\n",
    "trade = data_split(processed_full, TRADE_START_DATE,TRADE_END_DATE)\n",
    "print(len(train))\n",
    "print(len(trade))"
   ],
   "id": "35aa8950557b97bf",
   "outputs": [
    {
     "name": "stdout",
     "output_type": "stream",
     "text": [
      "83897\n",
      "9715\n"
     ]
    }
   ],
   "execution_count": 14
  },
  {
   "metadata": {
    "ExecuteTime": {
     "end_time": "2025-03-18T03:47:50.946697Z",
     "start_time": "2025-03-18T03:47:50.931697Z"
    }
   },
   "cell_type": "code",
   "source": "# trade.reset_index(drop=True, inplace=True)",
   "id": "faef873068cda3c1",
   "outputs": [],
   "execution_count": 15
  },
  {
   "metadata": {
    "ExecuteTime": {
     "end_time": "2025-03-18T03:47:50.978696Z",
     "start_time": "2025-03-18T03:47:50.961696Z"
    }
   },
   "cell_type": "code",
   "source": "# train.reset_index(drop=True, inplace=True)",
   "id": "3ca7347b4e9b9474",
   "outputs": [],
   "execution_count": 16
  },
  {
   "metadata": {},
   "cell_type": "markdown",
   "source": "### Save data to csv file",
   "id": "ba40a05ee5c416a3"
  },
  {
   "metadata": {},
   "cell_type": "markdown",
   "source": [
    "For Colab users, you can open the virtual directory in colab and manually download the files.\n",
    "\n",
    "For users running on your local environment, the csv files should be at the same directory of this notebook."
   ],
   "id": "8f46a7d7db8814a0"
  },
  {
   "metadata": {
    "ExecuteTime": {
     "end_time": "2025-03-18T03:47:52.483611Z",
     "start_time": "2025-03-18T03:47:50.999819Z"
    }
   },
   "cell_type": "code",
   "source": [
    "train.to_csv('model_data/train_data.csv')\n",
    "trade.to_csv('model_data/trade_data.csv')"
   ],
   "id": "fd2ef22ff953c8d6",
   "outputs": [],
   "execution_count": 17
  }
 ],
 "metadata": {
  "kernelspec": {
   "name": "python3",
   "language": "python",
   "display_name": "Python 3 (ipykernel)"
  }
 },
 "nbformat": 5,
 "nbformat_minor": 9
}
